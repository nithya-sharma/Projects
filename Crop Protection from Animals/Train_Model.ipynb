{
 "cells": [
  {
   "cell_type": "code",
   "execution_count": 1,
   "metadata": {
    "id": "pKFWD5Ds-xGR"
   },
   "outputs": [],
   "source": [
    "import numpy as np\n",
    "import pandas as pd"
   ]
  },
  {
   "cell_type": "code",
   "execution_count": 2,
   "metadata": {
    "id": "btIgpRC0_3Hd"
   },
   "outputs": [],
   "source": [
    "from tensorflow.keras.models import Sequential\n",
    "from tensorflow.keras.layers import Dense,Convolution2D,MaxPooling2D,Flatten\n",
    "from tensorflow.keras.preprocessing.image import ImageDataGenerator"
   ]
  },
  {
   "cell_type": "code",
   "execution_count": 3,
   "metadata": {
    "id": "CYlQtTWGAOjC"
   },
   "outputs": [],
   "source": [
    "train_1 = ImageDataGenerator(rescale = 1./255, shear_range=0.2,zoom_range=0.2,horizontal_flip=True)\n",
    "test1 = ImageDataGenerator(rescale= 1./255)"
   ]
  },
  {
   "cell_type": "code",
   "execution_count": 4,
   "metadata": {
    "colab": {
     "base_uri": "https://localhost:8080/"
    },
    "executionInfo": {
     "elapsed": 1610,
     "status": "ok",
     "timestamp": 1627306849082,
     "user": {
      "displayName": "Gamezone prashant",
      "photoUrl": "",
      "userId": "08278404720361459884"
     },
     "user_tz": -330
    },
    "id": "Pd4AKhOnAWht",
    "outputId": "19f2e8eb-171c-418d-ea55-a12a979b205c"
   },
   "outputs": [
    {
     "name": "stdout",
     "output_type": "stream",
     "text": [
      "Found 18322 images belonging to 10 classes.\n",
      "Found 7857 images belonging to 10 classes.\n"
     ]
    }
   ],
   "source": [
    "X_train = train_1.flow_from_directory(r'data_set/train',target_size=(64,64),batch_size=128,class_mode=\"categorical\")\n",
    "X_test = test1.flow_from_directory(r'data_set/val',target_size=(64,64),batch_size=128,class_mode=\"categorical\")"
   ]
  },
  {
   "cell_type": "code",
   "execution_count": 5,
   "metadata": {
    "id": "wZypUG4626_b"
   },
   "outputs": [],
   "source": [
    "model=Sequential([InceptionResNetV2(include_top=False,input_shape=(64,64,3),weights='imagenet'),\n",
    "Dropout(0.2),\n",
    "GlobalAveragePooling2D(),\n",
    "Dropout(0.8),\n",
    "Dense(10,activation='softmax'),\n",
    "])"
   ]
  },
  {
   "cell_type": "code",
   "execution_count": 11,
   "metadata": {
    "colab": {
     "background_save": true,
     "base_uri": "https://localhost:8080/"
    },
    "id": "VfA6YRmj3xso",
    "outputId": "0af4a2ab-e341-49c9-e7a6-dece694b493a"
   },
   "outputs": [
    {
     "name": "stdout",
     "output_type": "stream",
     "text": [
      "Epoch 1/10\n",
      "72/71 [==============================] - 206s 3s/step - loss: 2.4695 - acc: 0.2028 - val_loss: 2.0419 - val_acc: 0.2999\n",
      "Epoch 2/10\n",
      "72/71 [==============================] - 120s 2s/step - loss: 1.9603 - acc: 0.3096 - val_loss: 1.9177 - val_acc: 0.3168\n",
      "Epoch 3/10\n",
      "72/71 [==============================] - 30s 416ms/step - loss: 1.8168 - acc: 0.3739 - val_loss: 1.7683 - val_acc: 0.3881\n",
      "Epoch 4/10\n",
      "72/71 [==============================] - 29s 403ms/step - loss: 1.7151 - acc: 0.4027 - val_loss: 1.6982 - val_acc: 0.4262\n",
      "Epoch 5/10\n",
      "72/71 [==============================] - 31s 436ms/step - loss: 1.6682 - acc: 0.4187 - val_loss: 1.7513 - val_acc: 0.4027\n",
      "Epoch 6/10\n",
      "72/71 [==============================] - 32s 445ms/step - loss: 1.6397 - acc: 0.4382 - val_loss: 1.6809 - val_acc: 0.4320\n",
      "Epoch 7/10\n",
      "72/71 [==============================] - 30s 419ms/step - loss: 1.5850 - acc: 0.4487 - val_loss: 1.7173 - val_acc: 0.4196\n",
      "Epoch 8/10\n",
      "72/71 [==============================] - 31s 426ms/step - loss: 1.5836 - acc: 0.4516 - val_loss: 1.5869 - val_acc: 0.4705\n",
      "Epoch 9/10\n",
      "72/71 [==============================] - 32s 441ms/step - loss: 1.5380 - acc: 0.4712 - val_loss: 1.6203 - val_acc: 0.4574\n",
      "Epoch 10/10\n",
      "72/71 [==============================] - 32s 440ms/step - loss: 1.5328 - acc: 0.4787 - val_loss: 1.6167 - val_acc: 0.4622\n"
     ]
    },
    {
     "data": {
      "text/plain": [
       "<tensorflow.python.keras.callbacks.History at 0x1b8a8416630>"
      ]
     },
     "execution_count": 11,
     "metadata": {},
     "output_type": "execute_result"
    }
   ],
   "source": [
    "model.fit(X_train, epochs=10, validation_data=X_test, verbose=1)"
   ]
  },
  {
   "cell_type": "code",
   "execution_count": 13,
   "metadata": {
    "id": "V9MziFZF34YI"
   },
   "outputs": [],
   "source": [
    "model.save('model_1.h5')"
   ]
  },
  {
   "cell_type": "code",
   "execution_count": null,
   "metadata": {},
   "outputs": [],
   "source": []
  }
 ],
 "metadata": {
  "accelerator": "GPU",
  "colab": {
   "collapsed_sections": [],
   "name": "Train_Model.ipynb",
   "provenance": []
  },
  "kernelspec": {
   "display_name": "Python 3",
   "language": "python",
   "name": "python3"
  },
  "language_info": {
   "codemirror_mode": {
    "name": "ipython",
    "version": 3
   },
   "file_extension": ".py",
   "mimetype": "text/x-python",
   "name": "python",
   "nbconvert_exporter": "python",
   "pygments_lexer": "ipython3",
   "version": "3.7.3"
  }
 },
 "nbformat": 4,
 "nbformat_minor": 1
}
