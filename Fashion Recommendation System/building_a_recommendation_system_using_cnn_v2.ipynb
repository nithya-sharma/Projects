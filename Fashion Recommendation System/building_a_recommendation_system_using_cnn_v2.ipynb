{
  "cells": [
    {
      "cell_type": "markdown",
      "metadata": {
        "id": "cvAczP-QaE6u"
      },
      "source": [
        "# Building a Recommendation System Using CNN \n",
        "![](https://www.researchgate.net/profile/Andreas_Veit/publication/282181243/figure/fig1/AS:360995122892808@1463079352720/Visualization-of-a-2D-embedding-of-the-style-space-trained-with-strategic-sampling.png)\n"
      ]
    },
    {
      "cell_type": "markdown",
      "metadata": {
        "_uuid": "108a9f6ae089a97c442efb22c7c5fb064aa98016",
        "id": "k63JHj27aE6x"
      },
      "source": [
        "\n",
        "## Introduction\n",
        "\n",
        "In this notebook, I will use a CNN Model to create a Fashion Embedding. This information can be used in ML algorithms with higher semantic quality and similarity between Objects. We will use embeddings to identify similar items, this information will be used to recommend similar content in RecSys.\n",
        "\n",
        "* **Introduction**\n",
        "    * What is Embedding ?\n",
        "    * How to use Embedding ?\n",
        "* **Data Preparation**\n",
        "* **Use Pre-Trained Model to Recommendation**\n",
        "* Visualization Latent Space of Contents"
      ]
    },
    {
      "cell_type": "markdown",
      "metadata": {
        "id": "fHmuL1DMaE6y"
      },
      "source": [
        "#### Configure VM"
      ]
    },
    {
      "cell_type": "code",
      "execution_count": null,
      "metadata": {
        "_kg_hide-output": true,
        "id": "n4YDUsqJaE6y"
      },
      "outputs": [],
      "source": [
        "#!pip install swifter\n",
        "#!pip install tensorflow==2.0.0"
      ]
    },
    {
      "cell_type": "markdown",
      "metadata": {
        "id": "LTvPeKF4aE6z"
      },
      "source": [
        "## What is Embedding ?"
      ]
    },
    {
      "cell_type": "markdown",
      "metadata": {
        "id": "6qLKpey-aE6z"
      },
      "source": [
        "An embedding is a relatively low-dimensional space into which you can translate high-dimensional vectors. Embeddings make it easier to do machine learning on large inputs like sparse vectors representing words. Ideally, an embedding captures some of the semantics of the input by placing semantically similar inputs close together in the embedding space. An embedding can be learned and reused across models."
      ]
    },
    {
      "cell_type": "markdown",
      "metadata": {
        "id": "eGVVB3IMaE6z"
      },
      "source": [
        "So a natural language modelling technique like Word Embedding is used to map words or phrases from a vocabulary to a corresponding vector of real numbers. As well as being amenable to processing by learning algorithms, this vector representation has two important and advantageous properties:\n",
        "\n",
        "* **Dimensionality Reduction** — it is a more efficient representation\n",
        "* **Contextual Similarity** — it is a more expressive representation"
      ]
    },
    {
      "cell_type": "markdown",
      "metadata": {
        "id": "P7045Y1kaE60"
      },
      "source": [
        "![](https://encrypted-tbn0.gstatic.com/images?q=tbn:ANd9GcSiR683wW4f9httU7krJeLcgDQRB3Fmxi4v2SIr8QLSht204cmk&s)"
      ]
    },
    {
      "cell_type": "markdown",
      "metadata": {
        "id": "wnnvejFFaE60"
      },
      "source": [
        "We can use the Embedding as input of the model, containing a reduced dimensionality but with much semantic information. "
      ]
    },
    {
      "cell_type": "code",
      "source": [
        "!pip install -q kaggle"
      ],
      "metadata": {
        "id": "9dLPewTNaIjk"
      },
      "execution_count": null,
      "outputs": []
    },
    {
      "cell_type": "code",
      "source": [
        "from google.colab import files"
      ],
      "metadata": {
        "id": "PgJ46d_2aIuy"
      },
      "execution_count": null,
      "outputs": []
    },
    {
      "cell_type": "code",
      "source": [
        "files.upload()"
      ],
      "metadata": {
        "colab": {
          "base_uri": "https://localhost:8080/",
          "height": 108
        },
        "id": "fdK_cZ6Ca0ZI",
        "outputId": "a055e4d2-2b6d-43fa-e2c8-4c8e13026901"
      },
      "execution_count": null,
      "outputs": [
        {
          "output_type": "display_data",
          "data": {
            "text/plain": [
              "<IPython.core.display.HTML object>"
            ],
            "text/html": [
              "\n",
              "     <input type=\"file\" id=\"files-f3010afd-9ff1-4950-a1d8-2fa0f1385fb3\" name=\"files[]\" multiple disabled\n",
              "        style=\"border:none\" />\n",
              "     <output id=\"result-f3010afd-9ff1-4950-a1d8-2fa0f1385fb3\">\n",
              "      Upload widget is only available when the cell has been executed in the\n",
              "      current browser session. Please rerun this cell to enable.\n",
              "      </output>\n",
              "      <script>// Copyright 2017 Google LLC\n",
              "//\n",
              "// Licensed under the Apache License, Version 2.0 (the \"License\");\n",
              "// you may not use this file except in compliance with the License.\n",
              "// You may obtain a copy of the License at\n",
              "//\n",
              "//      http://www.apache.org/licenses/LICENSE-2.0\n",
              "//\n",
              "// Unless required by applicable law or agreed to in writing, software\n",
              "// distributed under the License is distributed on an \"AS IS\" BASIS,\n",
              "// WITHOUT WARRANTIES OR CONDITIONS OF ANY KIND, either express or implied.\n",
              "// See the License for the specific language governing permissions and\n",
              "// limitations under the License.\n",
              "\n",
              "/**\n",
              " * @fileoverview Helpers for google.colab Python module.\n",
              " */\n",
              "(function(scope) {\n",
              "function span(text, styleAttributes = {}) {\n",
              "  const element = document.createElement('span');\n",
              "  element.textContent = text;\n",
              "  for (const key of Object.keys(styleAttributes)) {\n",
              "    element.style[key] = styleAttributes[key];\n",
              "  }\n",
              "  return element;\n",
              "}\n",
              "\n",
              "// Max number of bytes which will be uploaded at a time.\n",
              "const MAX_PAYLOAD_SIZE = 100 * 1024;\n",
              "\n",
              "function _uploadFiles(inputId, outputId) {\n",
              "  const steps = uploadFilesStep(inputId, outputId);\n",
              "  const outputElement = document.getElementById(outputId);\n",
              "  // Cache steps on the outputElement to make it available for the next call\n",
              "  // to uploadFilesContinue from Python.\n",
              "  outputElement.steps = steps;\n",
              "\n",
              "  return _uploadFilesContinue(outputId);\n",
              "}\n",
              "\n",
              "// This is roughly an async generator (not supported in the browser yet),\n",
              "// where there are multiple asynchronous steps and the Python side is going\n",
              "// to poll for completion of each step.\n",
              "// This uses a Promise to block the python side on completion of each step,\n",
              "// then passes the result of the previous step as the input to the next step.\n",
              "function _uploadFilesContinue(outputId) {\n",
              "  const outputElement = document.getElementById(outputId);\n",
              "  const steps = outputElement.steps;\n",
              "\n",
              "  const next = steps.next(outputElement.lastPromiseValue);\n",
              "  return Promise.resolve(next.value.promise).then((value) => {\n",
              "    // Cache the last promise value to make it available to the next\n",
              "    // step of the generator.\n",
              "    outputElement.lastPromiseValue = value;\n",
              "    return next.value.response;\n",
              "  });\n",
              "}\n",
              "\n",
              "/**\n",
              " * Generator function which is called between each async step of the upload\n",
              " * process.\n",
              " * @param {string} inputId Element ID of the input file picker element.\n",
              " * @param {string} outputId Element ID of the output display.\n",
              " * @return {!Iterable<!Object>} Iterable of next steps.\n",
              " */\n",
              "function* uploadFilesStep(inputId, outputId) {\n",
              "  const inputElement = document.getElementById(inputId);\n",
              "  inputElement.disabled = false;\n",
              "\n",
              "  const outputElement = document.getElementById(outputId);\n",
              "  outputElement.innerHTML = '';\n",
              "\n",
              "  const pickedPromise = new Promise((resolve) => {\n",
              "    inputElement.addEventListener('change', (e) => {\n",
              "      resolve(e.target.files);\n",
              "    });\n",
              "  });\n",
              "\n",
              "  const cancel = document.createElement('button');\n",
              "  inputElement.parentElement.appendChild(cancel);\n",
              "  cancel.textContent = 'Cancel upload';\n",
              "  const cancelPromise = new Promise((resolve) => {\n",
              "    cancel.onclick = () => {\n",
              "      resolve(null);\n",
              "    };\n",
              "  });\n",
              "\n",
              "  // Wait for the user to pick the files.\n",
              "  const files = yield {\n",
              "    promise: Promise.race([pickedPromise, cancelPromise]),\n",
              "    response: {\n",
              "      action: 'starting',\n",
              "    }\n",
              "  };\n",
              "\n",
              "  cancel.remove();\n",
              "\n",
              "  // Disable the input element since further picks are not allowed.\n",
              "  inputElement.disabled = true;\n",
              "\n",
              "  if (!files) {\n",
              "    return {\n",
              "      response: {\n",
              "        action: 'complete',\n",
              "      }\n",
              "    };\n",
              "  }\n",
              "\n",
              "  for (const file of files) {\n",
              "    const li = document.createElement('li');\n",
              "    li.append(span(file.name, {fontWeight: 'bold'}));\n",
              "    li.append(span(\n",
              "        `(${file.type || 'n/a'}) - ${file.size} bytes, ` +\n",
              "        `last modified: ${\n",
              "            file.lastModifiedDate ? file.lastModifiedDate.toLocaleDateString() :\n",
              "                                    'n/a'} - `));\n",
              "    const percent = span('0% done');\n",
              "    li.appendChild(percent);\n",
              "\n",
              "    outputElement.appendChild(li);\n",
              "\n",
              "    const fileDataPromise = new Promise((resolve) => {\n",
              "      const reader = new FileReader();\n",
              "      reader.onload = (e) => {\n",
              "        resolve(e.target.result);\n",
              "      };\n",
              "      reader.readAsArrayBuffer(file);\n",
              "    });\n",
              "    // Wait for the data to be ready.\n",
              "    let fileData = yield {\n",
              "      promise: fileDataPromise,\n",
              "      response: {\n",
              "        action: 'continue',\n",
              "      }\n",
              "    };\n",
              "\n",
              "    // Use a chunked sending to avoid message size limits. See b/62115660.\n",
              "    let position = 0;\n",
              "    do {\n",
              "      const length = Math.min(fileData.byteLength - position, MAX_PAYLOAD_SIZE);\n",
              "      const chunk = new Uint8Array(fileData, position, length);\n",
              "      position += length;\n",
              "\n",
              "      const base64 = btoa(String.fromCharCode.apply(null, chunk));\n",
              "      yield {\n",
              "        response: {\n",
              "          action: 'append',\n",
              "          file: file.name,\n",
              "          data: base64,\n",
              "        },\n",
              "      };\n",
              "\n",
              "      let percentDone = fileData.byteLength === 0 ?\n",
              "          100 :\n",
              "          Math.round((position / fileData.byteLength) * 100);\n",
              "      percent.textContent = `${percentDone}% done`;\n",
              "\n",
              "    } while (position < fileData.byteLength);\n",
              "  }\n",
              "\n",
              "  // All done.\n",
              "  yield {\n",
              "    response: {\n",
              "      action: 'complete',\n",
              "    }\n",
              "  };\n",
              "}\n",
              "\n",
              "scope.google = scope.google || {};\n",
              "scope.google.colab = scope.google.colab || {};\n",
              "scope.google.colab._files = {\n",
              "  _uploadFiles,\n",
              "  _uploadFilesContinue,\n",
              "};\n",
              "})(self);\n",
              "</script> "
            ]
          },
          "metadata": {}
        },
        {
          "output_type": "stream",
          "name": "stdout",
          "text": [
            "Saving kaggle.json to kaggle.json\n"
          ]
        },
        {
          "output_type": "execute_result",
          "data": {
            "text/plain": [
              "{'kaggle.json': b'{\"username\":\"niharika31\",\"key\":\"f6a436926c7d8cd3c55d7f682ee5a3f5\"}'}"
            ]
          },
          "metadata": {},
          "execution_count": 15
        }
      ]
    },
    {
      "cell_type": "code",
      "source": [
        "!mkdir ~/.kaggle"
      ],
      "metadata": {
        "id": "jem3ezoFaI0F",
        "colab": {
          "base_uri": "https://localhost:8080/"
        },
        "outputId": "5f969a14-9965-47df-b99d-589ca3926785"
      },
      "execution_count": null,
      "outputs": [
        {
          "output_type": "stream",
          "name": "stdout",
          "text": [
            "mkdir: cannot create directory ‘/root/.kaggle’: File exists\n"
          ]
        }
      ]
    },
    {
      "cell_type": "code",
      "source": [
        "! cp kaggle.json ~/.kaggle/"
      ],
      "metadata": {
        "id": "IfuYVVylaI3U"
      },
      "execution_count": null,
      "outputs": []
    },
    {
      "cell_type": "code",
      "source": [
        "! chmod 600 ~/.kaggle/kaggle.json"
      ],
      "metadata": {
        "id": "Ln0ebBveaI60",
        "colab": {
          "base_uri": "https://localhost:8080/"
        },
        "outputId": "7920011c-14b1-482f-d7a2-c6d4a9df0b10"
      },
      "execution_count": null,
      "outputs": [
        {
          "output_type": "stream",
          "name": "stdout",
          "text": [
            "chmod: cannot access '/root/.kaggle/kaggle.json': No such file or directory\n"
          ]
        }
      ]
    },
    {
      "cell_type": "code",
      "source": [
        "!kaggle datasets list"
      ],
      "metadata": {
        "colab": {
          "base_uri": "https://localhost:8080/"
        },
        "id": "zI7ZAvXDaeSo",
        "outputId": "6bb22b71-19c0-4fc8-8c9a-2073528927e8"
      },
      "execution_count": null,
      "outputs": [
        {
          "output_type": "stream",
          "name": "stdout",
          "text": [
            "Traceback (most recent call last):\n",
            "  File \"/usr/local/bin/kaggle\", line 5, in <module>\n",
            "    from kaggle.cli import main\n",
            "  File \"/usr/local/lib/python3.7/dist-packages/kaggle/__init__.py\", line 23, in <module>\n",
            "    api.authenticate()\n",
            "  File \"/usr/local/lib/python3.7/dist-packages/kaggle/api/kaggle_api_extended.py\", line 166, in authenticate\n",
            "    self.config_file, self.config_dir))\n",
            "OSError: Could not find kaggle.json. Make sure it's located in /root/.kaggle. Or use the environment method.\n"
          ]
        }
      ]
    },
    {
      "cell_type": "code",
      "source": [
        "!kaggle datasets download -d paramaggarwal/fashion-product-images-small"
      ],
      "metadata": {
        "colab": {
          "base_uri": "https://localhost:8080/"
        },
        "id": "IcgY_XIyaea4",
        "outputId": "78c8b1d0-3499-4eb2-bc6c-be896a1a278a"
      },
      "execution_count": null,
      "outputs": [
        {
          "output_type": "stream",
          "name": "stdout",
          "text": [
            "Traceback (most recent call last):\n",
            "  File \"/usr/local/bin/kaggle\", line 5, in <module>\n",
            "    from kaggle.cli import main\n",
            "  File \"/usr/local/lib/python3.7/dist-packages/kaggle/__init__.py\", line 23, in <module>\n",
            "    api.authenticate()\n",
            "  File \"/usr/local/lib/python3.7/dist-packages/kaggle/api/kaggle_api_extended.py\", line 166, in authenticate\n",
            "    self.config_file, self.config_dir))\n",
            "OSError: Could not find kaggle.json. Make sure it's located in /root/.kaggle. Or use the environment method.\n"
          ]
        }
      ]
    },
    {
      "cell_type": "code",
      "source": [
        "!unzip fashion-product-images-small.zip"
      ],
      "metadata": {
        "colab": {
          "base_uri": "https://localhost:8080/"
        },
        "id": "_yF026xRbZ_A",
        "outputId": "e8f71e8c-464b-486c-f026-b086f44a986d"
      },
      "execution_count": null,
      "outputs": [
        {
          "output_type": "stream",
          "name": "stdout",
          "text": [
            "unzip:  cannot find or open fashion-product-images-small.zip, fashion-product-images-small.zip.zip or fashion-product-images-small.zip.ZIP.\n"
          ]
        }
      ]
    },
    {
      "cell_type": "code",
      "source": [],
      "metadata": {
        "id": "tfcl5SQzbaDe"
      },
      "execution_count": null,
      "outputs": []
    },
    {
      "cell_type": "markdown",
      "metadata": {
        "_uuid": "0a5dd1bb4db47e3313cc9957857eb3f4684dd11f",
        "id": "na3CYTY9aE60"
      },
      "source": [
        "## Data Preparation\n",
        "To begin this exploratory analysis, first use `matplotlib` to import libraries and define functions for plotting the data."
      ]
    },
    {
      "cell_type": "code",
      "execution_count": null,
      "metadata": {
        "_kg_hide-input": false,
        "_uuid": "875b42ec5baee5274279d8a7b7a72159f3a586de",
        "id": "mcec_iiZaE61"
      },
      "outputs": [],
      "source": [
        "from mpl_toolkits.mplot3d import Axes3D\n",
        "from sklearn.preprocessing import StandardScaler\n",
        "import matplotlib.pyplot as plt # plotting\n",
        "import matplotlib.image as mpimg\n",
        "import numpy as np # linear algebra\n",
        "import pandas as pd # data processing, CSV file I/O (e.g. pd.read_csv)\n",
        "import os # accessing directory structure"
      ]
    },
    {
      "cell_type": "code",
      "execution_count": null,
      "metadata": {
        "_kg_hide-input": false,
        "_uuid": "7c96d605282a65cebf83737bbf0a3386c5c3f19e",
        "colab": {
          "base_uri": "https://localhost:8080/",
          "height": 182
        },
        "id": "ene06sDdaE61",
        "outputId": "1b92149f-d76b-4161-9447-4b2fe77df235"
      },
      "outputs": [
        {
          "output_type": "error",
          "ename": "FileNotFoundError",
          "evalue": "ignored",
          "traceback": [
            "\u001b[0;31m---------------------------------------------------------------------------\u001b[0m",
            "\u001b[0;31mFileNotFoundError\u001b[0m                         Traceback (most recent call last)",
            "\u001b[0;32m<ipython-input-12-c9d23057406d>\u001b[0m in \u001b[0;36m<module>\u001b[0;34m\u001b[0m\n\u001b[1;32m      1\u001b[0m \u001b[0mDATASET_PATH\u001b[0m \u001b[0;34m=\u001b[0m \u001b[0;34m\"/content/myntradataset/\"\u001b[0m\u001b[0;34m\u001b[0m\u001b[0;34m\u001b[0m\u001b[0m\n\u001b[0;32m----> 2\u001b[0;31m \u001b[0mprint\u001b[0m\u001b[0;34m(\u001b[0m\u001b[0mos\u001b[0m\u001b[0;34m.\u001b[0m\u001b[0mlistdir\u001b[0m\u001b[0;34m(\u001b[0m\u001b[0mDATASET_PATH\u001b[0m\u001b[0;34m)\u001b[0m\u001b[0;34m)\u001b[0m\u001b[0;34m\u001b[0m\u001b[0;34m\u001b[0m\u001b[0m\n\u001b[0m",
            "\u001b[0;31mFileNotFoundError\u001b[0m: [Errno 2] No such file or directory: '/content/myntradataset/'"
          ]
        }
      ],
      "source": [
        "DATASET_PATH = \"/content/myntradataset/\"\n",
        "print(os.listdir(DATASET_PATH))"
      ]
    },
    {
      "cell_type": "code",
      "execution_count": null,
      "metadata": {
        "_uuid": "f92cc76567188bdfe9dfa0d720d163f2702ab4fb",
        "id": "hnMYpCxcaE62"
      },
      "outputs": [],
      "source": [
        "df = pd.read_csv(DATASET_PATH + \"styles.csv\", nrows=5000, error_bad_lines=False)\n",
        "df['image'] = df.apply(lambda row: str(row['id']) + \".jpg\", axis=1)\n",
        "df = df.reset_index(drop=True)\n",
        "df.head(10)"
      ]
    },
    {
      "cell_type": "code",
      "execution_count": null,
      "metadata": {
        "id": "4wsaEf6PaE62"
      },
      "outputs": [],
      "source": [
        "import cv2\n",
        "def plot_figures(figures, nrows = 1, ncols=1,figsize=(8, 8)):\n",
        "    \"\"\"Plot a dictionary of figures.\n",
        "\n",
        "    Parameters\n",
        "    ----------\n",
        "    figures : <title, figure> dictionary\n",
        "    ncols : number of columns of subplots wanted in the display\n",
        "    nrows : number of rows of subplots wanted in the figure\n",
        "    \"\"\"\n",
        "\n",
        "    fig, axeslist = plt.subplots(ncols=ncols, nrows=nrows,figsize=figsize)\n",
        "    for ind,title in enumerate(figures):\n",
        "        axeslist.ravel()[ind].imshow(cv2.cvtColor(figures[title], cv2.COLOR_BGR2RGB))\n",
        "        axeslist.ravel()[ind].set_title(title)\n",
        "        axeslist.ravel()[ind].set_axis_off()\n",
        "    plt.tight_layout() # optional\n",
        "    \n",
        "def img_path(img):\n",
        "    return DATASET_PATH+\"/images/\"+img\n",
        "\n",
        "def load_image(img, resized_fac = 0.1):\n",
        "    img     = cv2.imread(img_path(img))\n",
        "    w, h, _ = img.shape\n",
        "    resized = cv2.resize(img, (int(h*resized_fac), int(w*resized_fac)), interpolation = cv2.INTER_AREA)\n",
        "    return resized"
      ]
    },
    {
      "cell_type": "code",
      "execution_count": null,
      "metadata": {
        "id": "F0slVmw-aE63"
      },
      "outputs": [],
      "source": [
        "import matplotlib.pyplot as plt\n",
        "import numpy as np\n",
        "\n",
        "# generation of a dictionary of (title, images)\n",
        "figures = {'im'+str(i): load_image(row.image) for i, row in df.sample(6).iterrows()}\n",
        "# plot of the images in a figure, with 2 rows and 3 columns\n",
        "plot_figures(figures, 2, 3)"
      ]
    },
    {
      "cell_type": "markdown",
      "metadata": {
        "id": "Qg4BbFFUaE63"
      },
      "source": [
        "The Dataset is made up of different items that can be found in a marketplace. The idea is to use embeddings to search for similarity and find similar items just using the image."
      ]
    },
    {
      "cell_type": "code",
      "execution_count": null,
      "metadata": {
        "id": "hWD0SiUJaE63"
      },
      "outputs": [],
      "source": [
        "plt.figure(figsize=(7,20))\n",
        "df.articleType.value_counts().sort_values().plot(kind='barh')"
      ]
    },
    {
      "cell_type": "markdown",
      "metadata": {
        "id": "07s4O7LKaE64"
      },
      "source": [
        "## Use Pre-Trained Model to Recommendation"
      ]
    },
    {
      "cell_type": "code",
      "source": [
        "from tensorflow.keras.applications.resnet50 import ResNet50\n",
        "from tensorflow.keras.preprocessing import image\n",
        "from tensorflow.keras.applications.resnet50 import preprocess_input, decode_predictions\n",
        "import numpy as np"
      ],
      "metadata": {
        "id": "plgaOlcJez09"
      },
      "execution_count": null,
      "outputs": []
    },
    {
      "cell_type": "code",
      "execution_count": null,
      "metadata": {
        "id": "d_OUiwy0aE64"
      },
      "outputs": [],
      "source": [
        "import tensorflow as tf\n",
        "import keras\n",
        "from keras import Model\n",
        "#from keras.applications.resnet50 import ResNet50\n",
        "from keras.preprocessing import image\n",
        "#from keras.applications.resnet50 import preprocess_input, decode_predictions\n",
        "from keras.layers import GlobalMaxPooling2D\n",
        "tf.__version__"
      ]
    },
    {
      "cell_type": "code",
      "execution_count": null,
      "metadata": {
        "id": "NQL05OpiaE64"
      },
      "outputs": [],
      "source": [
        "# Input Shape\n",
        "img_width, img_height, _ = 224, 224, 3 \n",
        "load_image(df.iloc[0].image).shape\n",
        "\n",
        "# Pre-Trained Model\n",
        "base_model = ResNet50(weights='imagenet', \n",
        "                      include_top=False, \n",
        "                      input_shape = (img_width, img_height, 3))\n",
        "base_model.trainable = False\n",
        "\n",
        "# Add Layer Embedding\n",
        "model = keras.Sequential([\n",
        "    base_model,\n",
        "    GlobalMaxPooling2D()\n",
        "])\n",
        "\n",
        "model.summary()"
      ]
    },
    {
      "cell_type": "code",
      "execution_count": null,
      "metadata": {
        "id": "KGIzzy_HaE64"
      },
      "outputs": [],
      "source": [
        "def get_embedding(model, img_name):\n",
        "      # Reshape\n",
        "      img = image.load_img(img_path(img_name), target_size=(img_width, img_height))\n",
        "      # img to Array\n",
        "      x   = image.img_to_array(img)\n",
        "      # Expand Dim (1, w, h)\n",
        "      x   = np.expand_dims(x, axis=0)\n",
        "      # Pre process Input\n",
        "      x   = preprocess_input(x)\n",
        "      return model.predict(x).reshape(-1)"
      ]
    },
    {
      "cell_type": "markdown",
      "metadata": {
        "id": "eYStVkgAaE65"
      },
      "source": [
        "Get item Embedding"
      ]
    },
    {
      "cell_type": "code",
      "execution_count": null,
      "metadata": {
        "id": "pRrs26aYaE65"
      },
      "outputs": [],
      "source": [
        "emb = get_embedding(model, df.iloc[0].image)\n",
        "emb.shape"
      ]
    },
    {
      "cell_type": "code",
      "execution_count": null,
      "metadata": {
        "id": "C53jWV35aE65"
      },
      "outputs": [],
      "source": [
        "img_array = load_image(df.iloc[0].image)\n",
        "plt.imshow(cv2.cvtColor(img_array, cv2.COLOR_BGR2RGB))\n",
        "print(img_array.shape)\n",
        "print(emb)"
      ]
    },
    {
      "cell_type": "code",
      "execution_count": null,
      "metadata": {
        "id": "b0st_fAgaE65"
      },
      "outputs": [],
      "source": [
        "df.shape"
      ]
    },
    {
      "cell_type": "markdown",
      "metadata": {
        "id": "yYTkPEEGaE66"
      },
      "source": [
        "Get Embedding for all itens in dataset"
      ]
    },
    {
      "cell_type": "code",
      "execution_count": null,
      "metadata": {
        "id": "hQ-5zTGNaE66"
      },
      "outputs": [],
      "source": [
        "%%time\n",
        "#import swifter\n",
        "\n",
        "# Parallel apply\n",
        "df_sample      = df#.sample(10)\n",
        "map_embeddings = df_sample['image'].apply(lambda img: get_embedding(model, img))\n",
        "df_embs        = map_embeddings.apply(pd.Series)\n",
        "\n",
        "print(df_embs.shape)\n",
        "df_embs.head()"
      ]
    },
    {
      "cell_type": "markdown",
      "metadata": {
        "id": "W1kdPlsxaE66"
      },
      "source": [
        "#### Compute Similarity Between Items"
      ]
    },
    {
      "cell_type": "markdown",
      "metadata": {
        "id": "tqebQ4InaE66"
      },
      "source": [
        "![](http://dataaspirant.com/wp-content/uploads/2015/04/cosine.png)"
      ]
    },
    {
      "cell_type": "code",
      "execution_count": null,
      "metadata": {
        "id": "FhJMSjgcaE66"
      },
      "outputs": [],
      "source": [
        "# https://scikit-learn.org/stable/modules/generated/sklearn.metrics.pairwise_distances.html\n",
        "from sklearn.metrics.pairwise import pairwise_distances\n",
        "\n",
        "# Calcule DIstance Matriz\n",
        "cosine_sim = 1-pairwise_distances(df_embs, metric='cosine')\n",
        "cosine_sim[:4, :4]"
      ]
    },
    {
      "cell_type": "markdown",
      "metadata": {
        "id": "qoedQZSUaE66"
      },
      "source": [
        "#### Recommender Similar Items"
      ]
    },
    {
      "cell_type": "code",
      "execution_count": null,
      "metadata": {
        "id": "L5cw6eRDaE67"
      },
      "outputs": [],
      "source": [
        "indices = pd.Series(range(len(df)), index=df.index)\n",
        "indices\n",
        "\n",
        "# Function that get movie recommendations based on the cosine similarity score of movie genres\n",
        "def get_recommender(idx, df, top_n = 5):\n",
        "    sim_idx    = indices[idx]\n",
        "    sim_scores = list(enumerate(cosine_sim[sim_idx]))\n",
        "    sim_scores = sorted(sim_scores, key=lambda x: x[1], reverse=True)\n",
        "    sim_scores = sim_scores[1:top_n+1]\n",
        "    idx_rec    = [i[0] for i in sim_scores]\n",
        "    idx_sim    = [i[1] for i in sim_scores]\n",
        "    \n",
        "    return indices.iloc[idx_rec].index, idx_sim\n",
        "\n",
        "get_recommender(2993, df, top_n = 5)"
      ]
    },
    {
      "cell_type": "code",
      "execution_count": null,
      "metadata": {
        "id": "6SMUwlYCaE67"
      },
      "outputs": [],
      "source": [
        "# Idx Item to Recommender\n",
        "idx_ref = 2993\n",
        "\n",
        "# Recommendations\n",
        "idx_rec, idx_sim = get_recommender(idx_ref, df, top_n = 6)\n",
        "\n",
        "# Plot\n",
        "#===================\n",
        "plt.imshow(cv2.cvtColor(load_image(df.iloc[idx_ref].image), cv2.COLOR_BGR2RGB))\n",
        "\n",
        "# generation of a dictionary of (title, images)\n",
        "figures = {'im'+str(i): load_image(row.image) for i, row in df.loc[idx_rec].iterrows()}\n",
        "# plot of the images in a figure, with 2 rows and 3 columns\n",
        "plot_figures(figures, 2, 3)"
      ]
    },
    {
      "cell_type": "markdown",
      "metadata": {
        "id": "o0mSlJBmaE67"
      },
      "source": [
        "**Search for items similar to the reference to recommend. Apparently it's working!**"
      ]
    },
    {
      "cell_type": "code",
      "execution_count": null,
      "metadata": {
        "id": "jGxJbigraE68"
      },
      "outputs": [],
      "source": [
        "idx_ref = 878\n",
        "\n",
        "# Recommendations\n",
        "idx_rec, idx_sim = get_recommender(idx_ref, df, top_n = 6)\n",
        "\n",
        "# Plot\n",
        "#===================\n",
        "plt.imshow(cv2.cvtColor(load_image(df.iloc[idx_ref].image), cv2.COLOR_BGR2RGB))\n",
        "\n",
        "# generation of a dictionary of (title, images)\n",
        "figures = {'im'+str(i): load_image(row.image) for i, row in df.loc[idx_rec].iterrows()}\n",
        "# plot of the images in a figure, with 2 rows and 3 columns\n",
        "plot_figures(figures, 2, 3)"
      ]
    },
    {
      "cell_type": "code",
      "execution_count": null,
      "metadata": {
        "id": "5sONJFwpaE68"
      },
      "outputs": [],
      "source": [
        "idx_ref = 987\n",
        "\n",
        "# Recommendations\n",
        "idx_rec, idx_sim = get_recommender(idx_ref, df, top_n = 6)\n",
        "\n",
        "# Plot\n",
        "#===================\n",
        "plt.imshow(cv2.cvtColor(load_image(df.iloc[idx_ref].image), cv2.COLOR_BGR2RGB))\n",
        "\n",
        "# generation of a dictionary of (title, images)\n",
        "figures = {'im'+str(i): load_image(row.image) for i, row in df.loc[idx_rec].iterrows()}\n",
        "# plot of the images in a figure, with 2 rows and 3 columns\n",
        "plot_figures(figures, 2, 3)"
      ]
    },
    {
      "cell_type": "code",
      "execution_count": null,
      "metadata": {
        "id": "xz1jVcIGaE68"
      },
      "outputs": [],
      "source": [
        "idx_ref = 3524\n",
        "\n",
        "# Recommendations\n",
        "idx_rec, idx_sim = get_recommender(idx_ref, df, top_n = 6)\n",
        "\n",
        "# Plot\n",
        "#===================\n",
        "plt.imshow(cv2.cvtColor(load_image(df.iloc[idx_ref].image), cv2.COLOR_BGR2RGB))\n",
        "\n",
        "# generation of a dictionary of (title, images)\n",
        "figures = {'im'+str(i): load_image(row.image) for i, row in df.loc[idx_rec].iterrows()}\n",
        "# plot of the images in a figure, with 2 rows and 3 columns\n",
        "plot_figures(figures, 2, 3)"
      ]
    },
    {
      "cell_type": "markdown",
      "metadata": {
        "id": "82-d_hP-aE69"
      },
      "source": [
        "## Visualization Latent Space of Contents\n",
        "\n",
        "Since our latent space is not two-dimensional, we will use TSNE to reduce dimensionality, so we can use some interesting visualizations that can be made at this point. One is to look at the neighborhoods of different classes in the latent 2D plane:"
      ]
    },
    {
      "cell_type": "code",
      "execution_count": null,
      "metadata": {
        "id": "YBaFjsI8aE69"
      },
      "outputs": [],
      "source": [
        "from sklearn.manifold import TSNE\n",
        "import time\n",
        "import seaborn as sns"
      ]
    },
    {
      "cell_type": "code",
      "execution_count": null,
      "metadata": {
        "id": "uaC-lxGJaE69"
      },
      "outputs": [],
      "source": [
        "df.head()"
      ]
    },
    {
      "cell_type": "code",
      "execution_count": null,
      "metadata": {
        "id": "FHuMrt3vaE69"
      },
      "outputs": [],
      "source": [
        "time_start = time.time()\n",
        "tsne = TSNE(n_components=2, verbose=0, perplexity=40, n_iter=300)\n",
        "tsne_results = tsne.fit_transform(df_embs)\n",
        "print('t-SNE done! Time elapsed: {} seconds'.format(time.time()-time_start))"
      ]
    },
    {
      "cell_type": "code",
      "execution_count": null,
      "metadata": {
        "id": "7YclSEuJaE6-"
      },
      "outputs": [],
      "source": [
        "df['tsne-2d-one'] = tsne_results[:,0]\n",
        "df['tsne-2d-two'] = tsne_results[:,1]"
      ]
    },
    {
      "cell_type": "code",
      "execution_count": null,
      "metadata": {
        "id": "qiEjLGiRaE6-"
      },
      "outputs": [],
      "source": [
        "plt.figure(figsize=(16,10))\n",
        "sns.scatterplot(x=\"tsne-2d-one\", y=\"tsne-2d-two\",\n",
        "                hue=\"masterCategory\",\n",
        "                data=df,\n",
        "                legend=\"full\",\n",
        "                alpha=0.8)"
      ]
    },
    {
      "cell_type": "markdown",
      "metadata": {
        "id": "J28iznljaE6-"
      },
      "source": [
        "You can see different clusters generated by embeddings, which reinforces that features make sense. In this image above it is possible to observe the separation by Category, and in more detail by subcategory.\n",
        "\n",
        "Of course there is actually a lot more information in embeddings, the visualization is for general understanding only"
      ]
    },
    {
      "cell_type": "code",
      "execution_count": null,
      "metadata": {
        "id": "jXy3QtfiaE6-"
      },
      "outputs": [],
      "source": [
        "plt.figure(figsize=(16,10))\n",
        "sns.scatterplot(x=\"tsne-2d-one\", y=\"tsne-2d-two\",\n",
        "                hue=\"subCategory\",\n",
        "                data=df,\n",
        "                legend=\"full\",\n",
        "                alpha=0.8)"
      ]
    },
    {
      "cell_type": "markdown",
      "metadata": {
        "id": "pDCgha6RaE6_"
      },
      "source": [
        "## Conclusion\n",
        "\n",
        "Convolutional networks can be used to generate generic embeddings of any content. These embeddings can be used to identify similar items and in a recommendation process.\n",
        "\n",
        "A big improvement would be to retrain some network layers in a dataset similar to the one that will be used. So the network learns better features for a specific problem."
      ]
    },
    {
      "cell_type": "code",
      "execution_count": null,
      "metadata": {
        "id": "8k2L2MOIaE6_"
      },
      "outputs": [],
      "source": [
        "df.sample(10).to_csv('df_sample.csv')\n",
        "df_embs.to_csv('embeddings.csv')\n",
        "df.to_csv('metadados.csv')"
      ]
    },
    {
      "cell_type": "code",
      "source": [],
      "metadata": {
        "id": "LBo6Bw-qa-ke"
      },
      "execution_count": null,
      "outputs": []
    }
  ],
  "metadata": {
    "kernelspec": {
      "display_name": "Python 3",
      "language": "python",
      "name": "python3"
    },
    "language_info": {
      "codemirror_mode": {
        "name": "ipython",
        "version": 3
      },
      "file_extension": ".py",
      "mimetype": "text/x-python",
      "name": "python",
      "nbconvert_exporter": "python",
      "pygments_lexer": "ipython3",
      "version": "3.6.6"
    },
    "colab": {
      "provenance": []
    }
  },
  "nbformat": 4,
  "nbformat_minor": 0
}